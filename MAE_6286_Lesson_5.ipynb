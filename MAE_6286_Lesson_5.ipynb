{
 "cells": [
  {
   "cell_type": "code",
   "execution_count": 1,
   "metadata": {},
   "outputs": [],
   "source": [
    "import numpy\n",
    "from matplotlib import pyplot\n",
    "%matplotlib inline"
   ]
  },
  {
   "cell_type": "code",
   "execution_count": 2,
   "metadata": {},
   "outputs": [],
   "source": [
    "pyplot.rcParams['font.family'] = 'serif'\n",
    "pyplot.rcParams['font.size'] = 16"
   ]
  },
  {
   "cell_type": "code",
   "execution_count": 3,
   "metadata": {},
   "outputs": [],
   "source": [
    "# Set parameters.\n",
    "nx = 101  # number of spatial discrete points\n",
    "L = 2.0  # length of the 1D domain\n",
    "dx = L / (nx - 1)  # spatial grid size\n",
    "nt = 2  # number of time steps\n",
    "dt = 0.02  # time-step size\n",
    "c = 1.0  # convection speed\n",
    "\n",
    "# Define the grid point coordinates.\n",
    "x = numpy.linspace(0.0, L, num=nx)"
   ]
  },
  {
   "cell_type": "code",
   "execution_count": 4,
   "metadata": {},
   "outputs": [
    {
     "name": "stdout",
     "output_type": "stream",
     "text": [
      "(array([25, 26, 27, 28, 29, 30, 31, 32, 33, 34, 35, 36, 37, 38, 39, 40, 41,\n",
      "       42, 43, 44, 45, 46, 47, 48, 49, 50]),)\n"
     ]
    }
   ],
   "source": [
    "# Set initial conditions with 1.0 everywhere (for now).\n",
    "u0 = numpy.ones(nx)\n",
    "# Get a list of indices where 0.5 <= x <= 1.0.\n",
    "mask = numpy.where(numpy.logical_and(x >= 0.5, x <= 1.0))\n",
    "print(mask)"
   ]
  },
  {
   "cell_type": "code",
   "execution_count": 5,
   "metadata": {},
   "outputs": [
    {
     "name": "stdout",
     "output_type": "stream",
     "text": [
      "[1. 1. 1. 1. 1. 1. 1. 1. 1. 1. 1. 1. 1. 1. 1. 1. 1. 1. 1. 1. 1. 1. 1. 1.\n",
      " 1. 2. 2. 2. 2. 2. 2. 2. 2. 2. 2. 2. 2. 2. 2. 2. 2. 2. 2. 2. 2. 2. 2. 2.\n",
      " 2. 2. 2. 1. 1. 1. 1. 1. 1. 1. 1. 1. 1. 1. 1. 1. 1. 1. 1. 1. 1. 1. 1. 1.\n",
      " 1. 1. 1. 1. 1. 1. 1. 1. 1. 1. 1. 1. 1. 1. 1. 1. 1. 1. 1. 1. 1. 1. 1. 1.\n",
      " 1. 1. 1. 1. 1.]\n"
     ]
    }
   ],
   "source": [
    "# Set initial condition u = 2.0 where 0.5 <= x <= 1.0.\n",
    "u0[mask] = 2.0\n",
    "print(u0)"
   ]
  },
  {
   "cell_type": "code",
   "execution_count": 6,
   "metadata": {},
   "outputs": [
    {
     "data": {
      "image/png": "[encoded data removed]",
      "text/plain": [
       "<Figure size 288x288 with 1 Axes>"
      ]
     },
     "metadata": {},
     "output_type": "display_data"
    }
   ],
   "source": [
    "# Plot the initial conditions.\n",
    "pyplot.figure(figsize=(4.0, 4.0))\n",
    "pyplot.title('Initial conditions')\n",
    "pyplot.xlabel('x')\n",
    "pyplot.ylabel('u')\n",
    "pyplot.grid()\n",
    "pyplot.plot(x, u0, color='C0', linestyle='--', linewidth=2)\n",
    "pyplot.xlim(0.0, L)\n",
    "pyplot.ylim(0.0, 2.5);"
   ]
  },
  {
   "cell_type": "code",
   "execution_count": 7,
   "metadata": {},
   "outputs": [],
   "source": [
    "u = u0.copy()\n",
    "for n in range(1, nt):\n",
    "    un = u.copy()\n",
    "    for i in range(1, nx):\n",
    "        u[i] = un[i] - c * dt / dx * (un[i] - un[i - 1])"
   ]
  },
  {
   "cell_type": "code",
   "execution_count": 8,
   "metadata": {},
   "outputs": [
    {
     "data": {
      "image/png": "[encoded data removed]",
      "text/plain": [
       "<Figure size 288x288 with 1 Axes>"
      ]
     },
     "metadata": {},
     "output_type": "display_data"
    }
   ],
   "source": [
    "# Plot the solution after nt time steps\n",
    "# along with the initial conditions.\n",
    "pyplot.figure(figsize=(4.0, 4.0))\n",
    "pyplot.xlabel('x')\n",
    "pyplot.ylabel('u')\n",
    "pyplot.grid()\n",
    "pyplot.plot(x, u0, label='Initial',\n",
    "            color='C0', linestyle='--', linewidth=2)\n",
    "pyplot.plot(x, u, label='nt = {}'.format(nt),\n",
    "            color='C1', linestyle='-', linewidth=2)\n",
    "pyplot.legend()\n",
    "pyplot.xlim(0.0, L)\n",
    "pyplot.ylim(0.0, 2.5);"
   ]
  },
  {
   "cell_type": "markdown",
   "metadata": {},
   "source": [
    "That's funny. Our square wave has definitely moved to the right, but it's no longer in the shape of a top-hat. What's going on?\n",
    "\n",
    "The solution differs from the expected square wave because the discretized equation is an approximation of the continuous differential equation that we want to solve. There are errors: we knew that. But the modified shape of the initial wave is something curious. Maybe it can be improved by making the grid spacing finer. Why don't you try it? Does it help?"
   ]
  },
  {
   "cell_type": "code",
   "execution_count": 9,
   "metadata": {},
   "outputs": [],
   "source": [
    "#making the number of dicrete points greater, and making the number of time steps smaller allows the orange curve \n",
    "#to appraoch the initial curve"
   ]
  },
  {
   "cell_type": "code",
   "execution_count": 26,
   "metadata": {},
   "outputs": [],
   "source": [
    "# Set parameters.\n",
    "nx = 51  # number of spatial discrete points\n",
    "L = 2.0  # length of the 1D domain\n",
    "dx = L / (nx - 1)  # spatial grid size\n",
    "nt = 2  # number of time steps\n",
    "dt = 0.02  # time-step size\n",
    "\n",
    "x = numpy.linspace(0.0, L, num=nx)\n",
    "u0 = numpy.ones(nx)\n",
    "mask = numpy.where(numpy.logical_and(x >= 0.5, x <= 1.0))\n",
    "u0[mask] = 2.0"
   ]
  },
  {
   "cell_type": "code",
   "execution_count": 27,
   "metadata": {},
   "outputs": [
    {
     "data": {
      "image/png": "[encoded data removed]",
      "text/plain": [
       "<Figure size 288x288 with 1 Axes>"
      ]
     },
     "metadata": {},
     "output_type": "display_data"
    }
   ],
   "source": [
    "# Plot the initial conditions.\n",
    "pyplot.figure(figsize=(4.0, 4.0))\n",
    "pyplot.title('Initial conditions')\n",
    "pyplot.xlabel('x')\n",
    "pyplot.ylabel('u')\n",
    "pyplot.grid()\n",
    "pyplot.plot(x, u0, color='C0', linestyle='--', linewidth=2)\n",
    "pyplot.xlim(0.0, L)\n",
    "pyplot.ylim(0.0, 2.5);"
   ]
  },
  {
   "cell_type": "code",
   "execution_count": 28,
   "metadata": {},
   "outputs": [],
   "source": [
    "# Compute the solution using Euler's method and array slicing.\n",
    "u = u0.copy()\n",
    "for n in range(1, nt):\n",
    "    u[1:] = u[1:] - dt / dx * u[1:] * (u[1:] - u[:-1])"
   ]
  },
  {
   "cell_type": "code",
   "execution_count": 29,
   "metadata": {},
   "outputs": [
    {
     "data": {
      "image/png": "[encoded data removed]",
      "text/plain": [
       "<Figure size 288x288 with 1 Axes>"
      ]
     },
     "metadata": {},
     "output_type": "display_data"
    }
   ],
   "source": [
    "# Plot the solution after nt time steps\n",
    "# along with the initial conditions.\n",
    "pyplot.figure(figsize=(4.0, 4.0))\n",
    "pyplot.xlabel('x')\n",
    "pyplot.ylabel('u')\n",
    "pyplot.grid()\n",
    "pyplot.plot(x, u0, label='Initial',\n",
    "            color='C0', linestyle='--', linewidth=2)\n",
    "pyplot.plot(x, u, label='nt = {}'.format(nt),\n",
    "            color='C1', linestyle='-', linewidth=2)\n",
    "pyplot.legend()\n",
    "pyplot.xlim(0.0, L)\n",
    "pyplot.ylim(0.0, 2.5);"
   ]
  },
  {
   "cell_type": "markdown",
   "metadata": {},
   "source": [
    "Hmm. That's quite interesting: like in the linear case, we see that we have lost the sharp sides of our initial square wave, but there's more. Now, the wave has also lost symmetry! It seems to be lagging on the rear side, while the front of the wave is steepening. Is this another form of numerical error, do you ask? No! It's physics!\n",
    "\n",
    "Think about the effect of having replaced the constant wave speed c by the variable speed given by the solution u. It means that different parts of the wave move at different speeds. Make a sketch of an initial wave and think about where the speed is higher and where it is lower ..."
   ]
  },
  {
   "cell_type": "code",
   "execution_count": 30,
   "metadata": {},
   "outputs": [],
   "source": [
    "#the issue is mostly fixed when the number of spatial discrete points is increased by 10, which makes the sides more\n",
    "#sharp\n",
    "#decreasing the number of time steps also brings the orange line to the left"
   ]
  },
  {
   "cell_type": "code",
   "execution_count": null,
   "metadata": {},
   "outputs": [],
   "source": []
  }
 ],
 "metadata": {
  "kernelspec": {
   "display_name": "Python 3",
   "language": "python",
   "name": "python3"
  },
  "language_info": {
   "codemirror_mode": {
    "name": "ipython",
    "version": 3
   },
   "file_extension": ".py",
   "mimetype": "text/x-python",
   "name": "python",
   "nbconvert_exporter": "python",
   "pygments_lexer": "ipython3",
   "version": "3.6.2"
  }
 },
 "nbformat": 4,
 "nbformat_minor": 2
}
