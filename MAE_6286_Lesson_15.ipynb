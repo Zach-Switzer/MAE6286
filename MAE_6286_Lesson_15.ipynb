{
 "cells": [
  {
   "cell_type": "code",
   "execution_count": 1,
   "metadata": {},
   "outputs": [],
   "source": [
    "import numpy\n",
    "from matplotlib import pyplot\n",
    "%matplotlib inline\n",
    "from scipy import linalg"
   ]
  },
  {
   "cell_type": "code",
   "execution_count": 2,
   "metadata": {},
   "outputs": [],
   "source": [
    "def btcs(T0, nt,  dt, delta, alpha,Tb):\n",
    "    ny,nx = T0.shape #returns a tuple with 2 elements (1st is # of rows, 2nd is # of columns)\n",
    "    M,N = nx - 2, ny - 2\n",
    "    sigma = alpha * dt / delta**2\n",
    "    A = lhs_operator(M, N, sigma)\n",
    "    T = T0[1:-1, 1:-1].flatten()\n",
    "    I,J = int (M/2), int(N/2)\n",
    "    for n in range(nt):\n",
    "        b=rhs_vector(T, M, N, sigma, Tb)\n",
    "        T=linalg.solve(A,b)\n",
    "        if T[J * M + I] >= 70.0:\n",
    "            break\n",
    "            \n",
    "    print('time step{}; temperature at the center {} C'.format(n, T[J * M + I]))\n",
    "    return map_1d_to_2d(T,nx,ny,Tb)"
   ]
  },
  {
   "cell_type": "code",
   "execution_count": 3,
   "metadata": {},
   "outputs": [],
   "source": [
    "def map_1d_to_2d(T1,nx,ny,Tb):\n",
    "    T=numpy.zeros((ny,nx))\n",
    "    T[1:-1, 1:-1] = T1.reshape ((ny-2, nx-2))    \n",
    "    T[:,0] = Tb\n",
    "    T[0,:] = Tb\n",
    "    T[:, -1] = T[:,-2]\n",
    "    T[-1, :] = T[-2,:]\n",
    "    return T"
   ]
  },
  {
   "cell_type": "code",
   "execution_count": 4,
   "metadata": {},
   "outputs": [],
   "source": [
    "def rhs_vector(T, M, N, sigma, Tb):\n",
    "    b = T / sigma\n",
    "    for j in range (N):\n",
    "        for i in range (M):\n",
    "            I = j * M + i\n",
    "            if i==0:\n",
    "                b[I] += Tb\n",
    "            if j==0: \n",
    "                b[I] += Tb\n",
    "            \n",
    "    return b "
   ]
  },
  {
   "cell_type": "code",
   "execution_count": 7,
   "metadata": {},
   "outputs": [],
   "source": [
    "def lhs_operator (M, N, sigma):\n",
    "    #making the matrix\n",
    "    A=numpy.zeros((M * N, M * N))\n",
    "    for j in range (N):\n",
    "        for i in range(M):\n",
    "            I=j * M + i\n",
    "            #1st row of matrix is the equation for the 1st interior point\n",
    "            IS = I - M\n",
    "            IW = I - 1\n",
    "            IE = I + 1\n",
    "            IN = I + M\n",
    "            if i == 0 and j == 0:\n",
    "                A[I,I] = 1.0/sigma +4.0\n",
    "                A[I,IE] = -1.0\n",
    "                A[I,IN] = -1.0\n",
    "            elif i == 0 and j == N - 1:\n",
    "                A[I, I] = 1.0 / sigma +3.0\n",
    "                A[I,IE] = -1.0\n",
    "                A[I,IS] = -1.0\n",
    "            elif i == M-1 and j ==0:\n",
    "                A[I, I] = 1.0 / sigma +3.0\n",
    "                A[I,IW] = -1.0\n",
    "                A[I,IN] = -1.0\n",
    "            elif i == M-1 and j == N-1:\n",
    "                A[I, I] = 1.0 / sigma +2.0\n",
    "                A[I,IS] = -1.0\n",
    "                A[I,IW] = -1.0\n",
    "            elif i == 0:\n",
    "                A[I,I] = 1.0/sigma + 4.0\n",
    "                A[I,IS] = -1.0\n",
    "                A[I,IE] = -1.0\n",
    "                A[I,IN] = -1.0\n",
    "            elif j == 0:\n",
    "                A[I,I] = 1.0/sigma + 4.0\n",
    "                A[I,IW] = -1.0\n",
    "                A[I,IE] = -1.0\n",
    "                A[I,IN] = -1.0 \n",
    "            elif i == M - 1:\n",
    "                A[I,I]=1.0/sigma + 3.0\n",
    "                A[I,IS] = -1.0\n",
    "                A[I,IW] = -1.0\n",
    "                A[I,IN] = -1.0\n",
    "            elif j == M - 1:\n",
    "                A[I,I]=1.0/sigma + 3.0\n",
    "                A[I,IS] = -1.0\n",
    "                A[I,IW] = -1.0\n",
    "                A[I,IE] = -1.0\n",
    "            else:\n",
    "                A[I, I] = 1/sigma + 4.0\n",
    "                A[I,IS] = -1.0\n",
    "                A[I,IW] = -1.0\n",
    "                A[I,IE] = -1.0\n",
    "                A[I,IN] = -1.0\n",
    "    return A"
   ]
  },
  {
   "cell_type": "code",
   "execution_count": 12,
   "metadata": {},
   "outputs": [
    {
     "name": "stdout",
     "output_type": "stream",
     "text": [
      "time step499; temperature at the center 69.28336263365993 C\n"
     ]
    }
   ],
   "source": [
    "#set parameters\n",
    "Lx=0.01\n",
    "Ly=0.01\n",
    "nx=21\n",
    "ny=21\n",
    "dx=Lx/(nx-1)\n",
    "dy=Ly/(ny-1)\n",
    "alpha=1e-4\n",
    "\n",
    "x=numpy.linspace(0.0,Lx,num=nx)\n",
    "y=numpy.linspace(0.0,Ly,num=ny)\n",
    "\n",
    "#initial conditions\n",
    "#T[y,x] is the setup that we will choose\n",
    "T0=20.0 * numpy.ones((ny,nx)) #center is initially 20 deg - here have ny row and nx columns\n",
    "T0[0,:]=100.0 #here all the x points at the bottom are = 100\n",
    "T0[:,0]=100.0 #here all the y points at the left hand side are = 100\n",
    "\n",
    "sigma = 0.25\n",
    "dt = sigma/(alpha*(1/dx**2 + 1/dy**2))\n",
    "nt= 500 #number of time steps\n",
    "\n",
    "T=btcs(T0, nt, dt, dx, alpha, 100.0)"
   ]
  },
  {
   "cell_type": "code",
   "execution_count": null,
   "metadata": {},
   "outputs": [],
   "source": []
  }
 ],
 "metadata": {
  "kernelspec": {
   "display_name": "Python 3",
   "language": "python",
   "name": "python3"
  },
  "language_info": {
   "codemirror_mode": {
    "name": "ipython",
    "version": 3
   },
   "file_extension": ".py",
   "mimetype": "text/x-python",
   "name": "python",
   "nbconvert_exporter": "python",
   "pygments_lexer": "ipython3",
   "version": "3.6.2"
  }
 },
 "nbformat": 4,
 "nbformat_minor": 2
}
