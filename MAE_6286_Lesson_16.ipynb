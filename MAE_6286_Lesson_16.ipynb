{
 "cells": [
  {
   "cell_type": "code",
   "execution_count": 29,
   "metadata": {},
   "outputs": [],
   "source": [
    "import numpy\n",
    "from matplotlib import pyplot\n",
    "from scipy import linalg\n",
    "%matplotlib inline"
   ]
  },
  {
   "cell_type": "code",
   "execution_count": 30,
   "metadata": {},
   "outputs": [],
   "source": [
    "L=1.0\n",
    "nx=51\n",
    "dx=L/(nx-1)\n",
    "x=numpy.linspace(0.0,L,num=nx)\n",
    "\n",
    "alpha=1.22e-3\n",
    "T0=numpy.zeros(nx)\n",
    "T0[0]=100.0"
   ]
  },
  {
   "cell_type": "code",
   "execution_count": 51,
   "metadata": {},
   "outputs": [],
   "source": [
    "def solve_1d(T0, nt, dt, dx, alpha, cI, cE, bc):\n",
    "    T=T0.copy()\n",
    "    #for an implicit scheme only solving for the points inside of the domain\n",
    "    N=len(T0)-2\n",
    "    A , b_bc=lhs_operator(N, dt, dx, alpha, cI, bc)\n",
    "    for n in range (nt):\n",
    "        b=rhs_vector(T, dt, dx, alpha, cE)\n",
    "        T[1:-1]=linalg.solve(A,b-b_bc)\n",
    "        update_boundaries(T, dx, bc)\n",
    "    return T"
   ]
  },
  {
   "cell_type": "code",
   "execution_count": 52,
   "metadata": {},
   "outputs": [],
   "source": [
    "def lhs_operator(N, dt, dx, alpha, cI, bc):\n",
    "    \n",
    "    I=numpy.identity(N)\n",
    "    L , b_bc=laplacian_1d(N, dx, bc)\n",
    "    A=I/dt - cI*alpha*L\n",
    "    \n",
    "    return A , b_bc"
   ]
  },
  {
   "cell_type": "code",
   "execution_count": 53,
   "metadata": {},
   "outputs": [],
   "source": [
    "def rhs_vector(T, dt, dx, alpha, cE):\n",
    "    \n",
    "    b=T[1:-1]/dt + cE*alpha*(T[:-2]-2*T[1:-1]+T[2:])/dx**2\n",
    "    \n",
    "    return b"
   ]
  },
  {
   "cell_type": "code",
   "execution_count": 54,
   "metadata": {},
   "outputs": [],
   "source": [
    "def update_boundaries(T, dx, bc):\n",
    "    \n",
    "    T[0]=get_boundary_value(T[1],dx,bc['left'])\n",
    "    T[-1]=get_boundary_value(T[-2], dx, bc['right'])\n",
    "    \n",
    "    return"
   ]
  },
  {
   "cell_type": "code",
   "execution_count": 55,
   "metadata": {},
   "outputs": [],
   "source": [
    "def get_boundary_value(T_neighbor, dx, bc):\n",
    "    \n",
    "    if bc['type']=='Dirichlet':\n",
    "        return bc['value']\n",
    "    elif bc['type']=='Neumann':\n",
    "        return T_neighbor+bc['value']*dx\n",
    "    else:\n",
    "        raise ValueError('only dirichlet and Nuemann are supported')\n",
    "    \n",
    "    return "
   ]
  },
  {
   "cell_type": "code",
   "execution_count": 56,
   "metadata": {},
   "outputs": [],
   "source": [
    "def laplacian_1d(N, dx, bc):\n",
    "    \n",
    "    D=numpy.diag(-2.0/dx**2 * numpy.ones(N))\n",
    "    L=numpy.diag(1.0/dx**2 * numpy.ones(N-1), k=-1) #lower diagonal\n",
    "    U=numpy.diag(1.0/dx**2 * numpy.ones(N-1), k=+1) #upper diagonal\n",
    "    A=D+U+L\n",
    "    b_bc=numpy.zeros(N)\n",
    "    \n",
    "    #left boundary:\n",
    "    if bc['left']['type'] == 'Dirichlet':\n",
    "        b_bc[0]=bc['left']['value']/dx**2\n",
    "        \n",
    "    elif bc['left']['type']== 'Neumann':\n",
    "        A[0,0]=-1.0/dx**2\n",
    "        b_bc[0]=bc['left']['value']/dx\n",
    "        \n",
    "    #right boundary\n",
    "    if bc['right']['type'] == 'Dirichlet':\n",
    "        b_bc[-1]=bc['right']['value']/dx**2\n",
    "        \n",
    "    elif bc['right']['type']== 'Neumann':\n",
    "        A[-1,-1]=-1.0/dx**2\n",
    "        b_bc[-1]=bc['right']['value']/dx\n",
    "    \n",
    "    return A , b_bc"
   ]
  },
  {
   "cell_type": "code",
   "execution_count": 57,
   "metadata": {},
   "outputs": [
    {
     "name": "stdout",
     "output_type": "stream",
     "text": [
      "Dirichlet\n"
     ]
    }
   ],
   "source": [
    "#creating a dictionary\n",
    "bc_left={'type':'Dirichlet','value':100.0}\n",
    "bc_right={'type':'Neumann','value':0.0}\n",
    "# print(bc_left['type'])\n",
    "# print(bc_left['value'])\n",
    "bc={'left':bc_left, 'right':bc_right}\n",
    "print(bc['left']['type'])"
   ]
  },
  {
   "cell_type": "code",
   "execution_count": 58,
   "metadata": {},
   "outputs": [
    {
     "name": "stdout",
     "output_type": "stream",
     "text": [
      "[1. 1. 1.]\n",
      "[3. 1. 1.]\n"
     ]
    }
   ],
   "source": [
    "#an example not being used\n",
    "def func(a):\n",
    "    a[0]+=2.0\n",
    "    return\n",
    "\n",
    "a=numpy.ones(3)\n",
    "print(a)\n",
    "func(a)\n",
    "print(a)"
   ]
  },
  {
   "cell_type": "code",
   "execution_count": 59,
   "metadata": {},
   "outputs": [
    {
     "name": "stdout",
     "output_type": "stream",
     "text": [
      "101.0\n",
      "100.0\n"
     ]
    }
   ],
   "source": [
    "Tb1=get_boundary_value(100.0, 1.0, {'type':'Dirichlet', 'value': 101.0})\n",
    "print(Tb1)\n",
    "Tb=get_boundary_value(100.0, 1.0, {'type':'Neumann', 'value': 0.0})\n",
    "print(Tb)"
   ]
  },
  {
   "cell_type": "code",
   "execution_count": 60,
   "metadata": {},
   "outputs": [],
   "source": [
    "sigma=0.5\n",
    "dt=sigma*dx**2 / alpha\n",
    "nt=100\n",
    "\n",
    "T=solve_1d(T0,nt,dt,dx,alpha,0.5, 0.5, bc)"
   ]
  },
  {
   "cell_type": "code",
   "execution_count": 61,
   "metadata": {},
   "outputs": [
    {
     "data": {
      "text/plain": [
       "[<matplotlib.lines.Line2D at 0x7f24c75ad518>]"
      ]
     },
     "execution_count": 61,
     "metadata": {},
     "output_type": "execute_result"
    },
    {
     "data": {
      "image/png": "[encoded data removed]",
      "text/plain": [
       "<Figure size 432x288 with 1 Axes>"
      ]
     },
     "metadata": {},
     "output_type": "display_data"
    }
   ],
   "source": [
    "pyplot.figure()\n",
    "pyplot.xlabel('Distance')\n",
    "pyplot.ylabel('Temperature')\n",
    "pyplot.plot(x,T)"
   ]
  },
  {
   "cell_type": "markdown",
   "metadata": {},
   "source": [
    "There is an error in the code somewhere."
   ]
  },
  {
   "cell_type": "markdown",
   "metadata": {},
   "source": [
    "Below is the code from the lesson that will work"
   ]
  },
  {
   "cell_type": "markdown",
   "metadata": {},
   "source": [
    "For Crank-Nicolson when you use too many iterations the errors start to accumulate and its not 2nd order accurate anymore. The issue is with the Nuemann condition as it's 1st order, so you're putting 1st order error into a 2nd order system, which will change the slope of the curve to 1st order if you do a lot of iterations."
   ]
  },
  {
   "cell_type": "code",
   "execution_count": null,
   "metadata": {},
   "outputs": [],
   "source": []
  }
 ],
 "metadata": {
  "kernelspec": {
   "display_name": "Python 3",
   "language": "python",
   "name": "python3"
  },
  "language_info": {
   "codemirror_mode": {
    "name": "ipython",
    "version": 3
   },
   "file_extension": ".py",
   "mimetype": "text/x-python",
   "name": "python",
   "nbconvert_exporter": "python",
   "pygments_lexer": "ipython3",
   "version": "3.6.2"
  }
 },
 "nbformat": 4,
 "nbformat_minor": 2
}
