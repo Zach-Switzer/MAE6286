{
 "cells": [
  {
   "cell_type": "markdown",
   "metadata": {},
   "source": [
    "There are different ways to get to the same sanswer, one of which will take 10 iterations (1 per each change in direction) and the other only takes 2."
   ]
  },
  {
   "cell_type": "code",
   "execution_count": 2,
   "metadata": {},
   "outputs": [],
   "source": [
    "import numpy\n",
    "from helper import l2_norm, poisson_2d_jacobi, poisson_solution"
   ]
  },
  {
   "cell_type": "code",
   "execution_count": 3,
   "metadata": {},
   "outputs": [],
   "source": [
    "# Set parameters.\n",
    "nx = 101  # number of points in the x direction\n",
    "ny = 101  # number of points in the y direction\n",
    "xmin, xmax = 0.0, 1.0  # limits in the x direction\n",
    "ymin, ymax = -0.5, 0.5  # limits in the y direction\n",
    "Lx = xmax - xmin  # domain length in the x direction\n",
    "Ly = ymax - ymin  # domain length in the y direction\n",
    "dx = Lx / (nx - 1)  # grid spacing in the x direction\n",
    "dy = Ly / (ny - 1)  # grid spacing in the y direction\n",
    "\n",
    "# Create the gridline locations and the mesh grid.\n",
    "x = numpy.linspace(xmin, xmax, num=nx)\n",
    "y = numpy.linspace(ymin, ymax, num=ny)\n",
    "X, Y = numpy.meshgrid(x, y)\n",
    "\n",
    "# Create the source term.\n",
    "b = (-2.0 * (numpy.pi / Lx) * (numpy.pi / Ly) *\n",
    "     numpy.sin(numpy.pi * X / Lx) *\n",
    "     numpy.cos(numpy.pi * Y / Ly))\n",
    "\n",
    "# Set the initial conditions.\n",
    "p0 = numpy.zeros((ny, nx))\n",
    "\n",
    "# Compute the analytical solution.\n",
    "p_exact = poisson_solution(x, y, Lx, Ly)"
   ]
  },
  {
   "cell_type": "code",
   "execution_count": 4,
   "metadata": {},
   "outputs": [],
   "source": [
    "def poisson_2d_steepest_descent(p0, b, dx, dy, maxiter=20000, rtol=1e-6):\n",
    "    def A(p):\n",
    "        # Apply the Laplacian operator to p.\n",
    "        return (-4.0 * p[1:-1, 1:-1] +\n",
    "                p[1:-1, :-2] + p[1:-1, 2:] +\n",
    "                p[:-2, 1:-1] + p[2:, 1:-1]) / dx**2\n",
    "    p = p0.copy()\n",
    "    r = numpy.zeros_like(p)  # initial residual\n",
    "    Ar = numpy.zeros_like(p)  # to store the mat-vec multiplication\n",
    "    conv = []  # convergence history\n",
    "    diff = rtol + 1  # initial difference\n",
    "    ite = 0  # iteration index\n",
    "    while diff > rtol and ite < maxiter:\n",
    "        pk = p.copy()\n",
    "        # Compute the residual.\n",
    "        r[1:-1, 1:-1] = b[1:-1, 1:-1] - A(p)\n",
    "        # Compute the Laplacian of the residual.\n",
    "        Ar[1:-1, 1:-1] = A(r)\n",
    "        # Compute the step size.\n",
    "        alpha = numpy.sum(r * r) / numpy.sum(r * Ar)\n",
    "        # Update the solution.\n",
    "        p = pk + alpha * r\n",
    "        # Dirichlet boundary conditions are automatically enforced.\n",
    "        # Compute the relative L2-norm of the difference.\n",
    "        diff = l2_norm(p, pk)\n",
    "        conv.append(diff)\n",
    "        ite += 1\n",
    "    return p, ite, conv"
   ]
  },
  {
   "cell_type": "code",
   "execution_count": 5,
   "metadata": {},
   "outputs": [
    {
     "name": "stdout",
     "output_type": "stream",
     "text": [
      "Method of steepest descent: 2 iterations to reach a relative difference of 1.3307695446303778e-16\n"
     ]
    }
   ],
   "source": [
    "# Compute the solution using the method of steepest descent.\n",
    "p, ites, conv_sd = poisson_2d_steepest_descent(p0, b, dx, dy, maxiter=20000, rtol=1e-10)\n",
    "print('Method of steepest descent: {} iterations '.format(ites) +\n",
    "      'to reach a relative difference of {}'.format(conv_sd[-1]))"
   ]
  },
  {
   "cell_type": "code",
   "execution_count": 6,
   "metadata": {},
   "outputs": [
    {
     "data": {
      "text/plain": [
       "8.225076220929745e-05"
      ]
     },
     "execution_count": 6,
     "metadata": {},
     "output_type": "execute_result"
    }
   ],
   "source": [
    "# Compute the relative L2-norm of the error.\n",
    "l2_norm(p, p_exact)"
   ]
  },
  {
   "cell_type": "code",
   "execution_count": null,
   "metadata": {},
   "outputs": [],
   "source": []
  }
 ],
 "metadata": {
  "kernelspec": {
   "display_name": "Python 3",
   "language": "python",
   "name": "python3"
  },
  "language_info": {
   "codemirror_mode": {
    "name": "ipython",
    "version": 3
   },
   "file_extension": ".py",
   "mimetype": "text/x-python",
   "name": "python",
   "nbconvert_exporter": "python",
   "pygments_lexer": "ipython3",
   "version": "3.6.2"
  }
 },
 "nbformat": 4,
 "nbformat_minor": 2
}
